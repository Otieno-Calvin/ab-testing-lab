




















from statsmodels.stats.power import TTestIndPower, TTestPower
power_analysis = TTestIndPower()
mean_difference = 0.01
sd = 0.0475
effect_size = mean_difference / sd
power_analysis.solve_power(alpha=.05, effect_size=effect_size, power=.80, alternative='larger')





#Your code; plot power curves for the various alpha and effect size combinations
import numpy as np
import matplotlib.pyplot as plt
import seaborn as sns
import scipy.stats as stats
sns.set_style('darkgrid')
%matplotlib inline


sd = 0.0475
e_sizes = [mu_delta/sd for mu_delta in [.005,.01,.02,.03]]
fig, axes = plt.subplots(ncols=1, nrows=3, figsize=(8,15))
for n, alpha in enumerate([.01, .05, .1]):
    print(type(n), alpha)
    ax = axes[n]
    power_analysis.plot_power(dep_var="nobs",
                              nobs = np.array(range(5,500)),
                              effect_size=e_sizes,
                              alpha=alpha,
                              ax=ax, 
                              alternative='larger')
    ax.set_title('Power of Test for alpha = {}'.format(alpha))
    ax.set_xticks(list(range(0,500,25)))
    ax.set_yticks(np.linspace(0,1,11))








    """



